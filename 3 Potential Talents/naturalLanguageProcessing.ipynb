{
  "cells": [
    {
      "cell_type": "markdown",
      "metadata": {
        "id": "-p3iwGp-U5RR"
      },
      "source": [
        "# Potential Talents\n",
        "---\n",
        "## Summary\n",
        "**Background:**\n",
        "\n",
        "As a talent sourcing and management company, we are interested in finding talented individuals for sourcing these candidates to technology companies. Finding talented candidates is not easy, for several reasons. The first reason is one needs to understand what the role is very well to fill in that spot, this requires understanding the client’s needs and what they are looking for in a potential candidate. The second reason is one needs to understand what makes a candidate shine for the role we are in search for. Third, where to find talented individuals is another challenge.\n",
        "\n",
        "The nature of our job requires a lot of human labor and is full of manual operations. Towards automating this process we want to build a better approach that could save us time and finally help us spot potential candidates that could fit the roles we are in search for. Moreover, going beyond that for a specific role we want to fill in we are interested in developing a machine learning powered pipeline that could spot talented individuals, and rank them based on their fitness.\n",
        "\n",
        "We are right now semi-automatically sourcing a few candidates, therefore the sourcing part is not a concern at this time but we expect to first determine best matching candidates based on how fit these candidates are for a given role. We generally make these searches based on some keywords such as “full-stack software engineer”, “engineering manager” or “aspiring human resources” based on the role we are trying to fill in. These keywords might change, and you can expect that specific keywords will be provided to you.\n",
        "\n",
        "Assuming that we were able to list and rank fitting candidates, we then employ a review procedure, as each candidate needs to be reviewed and then determined how good a fit they are through manual inspection. This procedure is done manually and at the end of this manual review, we might choose not the first fitting candidate in the list but maybe the 7th candidate in the list. If that happens, we are interested in being able to re-rank the previous list based on this information. This supervisory signal is going to be supplied by starring the 7th candidate in the list. Starring one candidate actually sets this candidate as an ideal candidate for the given role. Then, we expect the list to be re-ranked each time a candidate is starred.\n",
        "\n",
        "**Data Description**\n",
        "\n",
        "The data comes from our sourcing efforts. We removed any field that could directly reveal personal details and gave a unique identifier for each candidate.\n",
        "\n",
        "Attributes:\n",
        "- id : unique identifier for candidate (numeric)\n",
        "- job_title : job title for candidate (text)\n",
        "- location : geographical location for candidate (text)\n",
        "- connections: number of connections candidate has, 500+ means over 500 (text)\n",
        "\n",
        "Output (desired target):\n",
        "- fit - how fit the candidate is for the role? (numeric, probability between 0-1)\n",
        "\n",
        "Keywords: “Aspiring human resources” or “seeking human resources”\n",
        "\n",
        "**Goal(s):**\n",
        "\n",
        "- Predict how fit the candidate is based on their available information (variable fit)\n",
        "\n",
        "**Success Metric(s):**\n",
        "\n",
        "- Rank candidates based on a fitness score.\n",
        "- Re-rank candidates when a candidate is starred.\n",
        "\n",
        "**Bonus(es):**\n",
        "\n",
        "- We are interested in a robust algorithm, tell us how your solution works and show us how your ranking gets better with each starring action.\n",
        "- How can we filter out candidates which in the first place should not be in this list?\n",
        "- Can we determine a cut-off point that would work for other roles without losing high potential candidates?\n",
        "- Do you have any ideas that we should explore so that we can even automate this procedure to prevent human bias?"
      ]
    },
    {
      "cell_type": "markdown",
      "source": [
        "# Exploratory Data Analysis"
      ],
      "metadata": {
        "id": "PNGl5eeeVMcv"
      }
    },
    {
      "cell_type": "markdown",
      "source": [
        "## Import Libraries"
      ],
      "metadata": {
        "id": "os1dIieGpGPB"
      }
    },
    {
      "cell_type": "code",
      "execution_count": 45,
      "metadata": {
        "id": "k_wmVoPlU5RV",
        "outputId": "b5be01d1-37e2-403e-d814-6735c19c439f",
        "colab": {
          "base_uri": "https://localhost:8080/",
          "height": 479
        }
      },
      "outputs": [
        {
          "output_type": "stream",
          "name": "stderr",
          "text": [
            "[nltk_data] Downloading package punkt to /root/nltk_data...\n",
            "[nltk_data]   Package punkt is already up-to-date!\n",
            "[nltk_data] Downloading package stopwords to /root/nltk_data...\n",
            "[nltk_data]   Package stopwords is already up-to-date!\n",
            "[nltk_data] Downloading package wordnet to /root/nltk_data...\n",
            "[nltk_data]   Package wordnet is already up-to-date!\n"
          ]
        },
        {
          "output_type": "error",
          "ename": "ModuleNotFoundError",
          "evalue": "ignored",
          "traceback": [
            "\u001b[0;31m---------------------------------------------------------------------------\u001b[0m",
            "\u001b[0;31mModuleNotFoundError\u001b[0m                       Traceback (most recent call last)",
            "\u001b[0;32m<ipython-input-45-2d9e6c10ded0>\u001b[0m in \u001b[0;36m<cell line: 27>\u001b[0;34m()\u001b[0m\n\u001b[1;32m     25\u001b[0m \u001b[0;34m\u001b[0m\u001b[0m\n\u001b[1;32m     26\u001b[0m \u001b[0;31m# for BERT\u001b[0m\u001b[0;34m\u001b[0m\u001b[0;34m\u001b[0m\u001b[0m\n\u001b[0;32m---> 27\u001b[0;31m \u001b[0;32mfrom\u001b[0m \u001b[0mtransformers\u001b[0m \u001b[0;32mimport\u001b[0m \u001b[0mBertTokenizer\u001b[0m\u001b[0;34m,\u001b[0m \u001b[0mBertModel\u001b[0m\u001b[0;34m\u001b[0m\u001b[0;34m\u001b[0m\u001b[0m\n\u001b[0m\u001b[1;32m     28\u001b[0m \u001b[0;32mimport\u001b[0m \u001b[0mtorch\u001b[0m\u001b[0;34m\u001b[0m\u001b[0;34m\u001b[0m\u001b[0m\n\u001b[1;32m     29\u001b[0m \u001b[0;34m\u001b[0m\u001b[0m\n",
            "\u001b[0;31mModuleNotFoundError\u001b[0m: No module named 'transformers'",
            "",
            "\u001b[0;31m---------------------------------------------------------------------------\u001b[0;32m\nNOTE: If your import is failing due to a missing package, you can\nmanually install dependencies using either !pip or !apt.\n\nTo view examples of installing some common dependencies, click the\n\"Open Examples\" button below.\n\u001b[0;31m---------------------------------------------------------------------------\u001b[0m\n"
          ],
          "errorDetails": {
            "actions": [
              {
                "action": "open_url",
                "actionText": "Open Examples",
                "url": "/notebooks/snippets/importing_libraries.ipynb"
              }
            ]
          }
        }
      ],
      "source": [
        "# Standards\n",
        "import pandas as pd\n",
        "import numpy as np\n",
        "import matplotlib.pyplot as plt\n",
        "import seaborn as sns\n",
        "import xgboost as xgb\n",
        "from scipy import stats\n",
        "\n",
        "# for doc2vec\n",
        "import gensim\n",
        "from gensim.models.doc2vec import Doc2Vec, TaggedDocument\n",
        "from nltk.tokenize import word_tokenize\n",
        "from sklearn.metrics.pairwise import cosine_similarity\n",
        "\n",
        "# for cleaning\n",
        "import re\n",
        "import nltk\n",
        "from nltk.corpus import stopwords\n",
        "from nltk.stem import WordNetLemmatizer, PorterStemmer\n",
        "# If running for the first time, download necessary NLTK data\n",
        "nltk.download('punkt')\n",
        "nltk.download('stopwords')\n",
        "nltk.download('wordnet')\n",
        "from sklearn.preprocessing import MinMaxScaler\n",
        "\n",
        "# for BERT\n",
        "from transformers import BertTokenizer, BertModel\n",
        "import torch\n",
        "\n",
        "# Warnings\n",
        "import warnings\n",
        "\n",
        "# Suppress deprecation warnings\n",
        "#warnings.filterwarnings('ignore', category=FutureWarning)\n",
        "#warnings.filterwarnings('ignore', category=UserWarning)"
      ]
    },
    {
      "cell_type": "markdown",
      "source": [
        "## Import Data"
      ],
      "metadata": {
        "id": "dM0NoQTEVSmv"
      }
    },
    {
      "cell_type": "code",
      "source": [
        "# Load the data from a CSV file\n",
        "dataset = pd.read_csv('potential-talents.csv')\n",
        "\n",
        "# Extract only 2 feature columns\n",
        "x = dataset.iloc[:, [1,3]].values\n",
        "y = dataset.iloc[:, 4].values\n",
        "\n",
        "# Create a DataFrame with the feature columns\n",
        "df = pd.DataFrame(x, columns=['job_title', 'connection'])\n",
        "\n",
        "print(f\"x shape: {x.shape}\")\n",
        "print(f\"y shape: {y.shape}\")"
      ],
      "metadata": {
        "id": "V5B4l3dHVSCm",
        "outputId": "4c2e3507-7470-47dc-ce65-29c01b41381f",
        "colab": {
          "base_uri": "https://localhost:8080/"
        }
      },
      "execution_count": 15,
      "outputs": [
        {
          "output_type": "stream",
          "name": "stdout",
          "text": [
            "x shape: (104, 2)\n",
            "y shape: (104,)\n"
          ]
        }
      ]
    },
    {
      "cell_type": "markdown",
      "source": [
        "# Data Preprocessing"
      ],
      "metadata": {
        "id": "34L-_uYpZrXu"
      }
    },
    {
      "cell_type": "markdown",
      "source": [
        "## Missing Data"
      ],
      "metadata": {
        "id": "vUpswEdtZ2OB"
      }
    },
    {
      "cell_type": "code",
      "source": [
        "# Handle missing data\n",
        "missing_data = dataset.isnull().sum()\n",
        "print(\"Missing Data:\")\n",
        "print(missing_data)\n",
        "\n",
        "# Impute missing values\n",
        "#imputer = SimpleImputer(strategy='mean')  # Use mean imputation for numeric features\n",
        "#dataset[numeric_features] = imputer.fit_transform(dataset[numeric_features])"
      ],
      "metadata": {
        "id": "kAJIR7NWZuE8",
        "outputId": "33844ac3-106d-4250-c8cc-8d8784fe7ed3",
        "colab": {
          "base_uri": "https://localhost:8080/"
        }
      },
      "execution_count": 8,
      "outputs": [
        {
          "output_type": "stream",
          "name": "stdout",
          "text": [
            "Missing Data:\n",
            "id              0\n",
            "job_title       0\n",
            "location        0\n",
            "connection      0\n",
            "fit           104\n",
            "dtype: int64\n"
          ]
        }
      ]
    },
    {
      "cell_type": "markdown",
      "source": [
        "## Cleaning\n",
        "\n"
      ],
      "metadata": {
        "id": "pgWXOVVpenDE"
      }
    },
    {
      "cell_type": "markdown",
      "source": [
        "### job_title"
      ],
      "metadata": {
        "id": "rVLqojoaqwyv"
      }
    },
    {
      "cell_type": "code",
      "source": [
        "# Initialize lemmatizer and stemmer\n",
        "lemmatizer = WordNetLemmatizer()\n",
        "stemmer = PorterStemmer()\n",
        "\n",
        "# Define preprocesser\n",
        "def preprocess(document):\n",
        "\n",
        "    document = document.lower() # Convert text to lower case\n",
        "    document = re.sub(r'\\d+', '', document) # Remove numbers\n",
        "    document = re.sub(r'\\W', ' ', document) # Remove punctuation\n",
        "    document = document.strip() # Remove leading/trailing white space\n",
        "\n",
        "    tokens = nltk.word_tokenize(document) # Tokenize into words\n",
        "    tokens = [word for word in tokens if word not in stopwords.words('english')]  # Remove stopwords\n",
        "\n",
        "    # Lemmatize or stem the words\n",
        "    # For lemmatization:\n",
        "    tokens = [lemmatizer.lemmatize(word) for word in tokens]\n",
        "\n",
        "    # For stemming:\n",
        "    # tokens = [stemmer.stem(word) for word in tokens]\n",
        "\n",
        "    document = \" \".join(tokens) # Join the processed words back into a single string\n",
        "\n",
        "    return document"
      ],
      "metadata": {
        "id": "Xf0VvK0bepoV"
      },
      "execution_count": 19,
      "outputs": []
    },
    {
      "cell_type": "code",
      "source": [
        "# Clean columns\n",
        "df['job_title'] = df['job_title'].apply(preprocess)\n",
        "\n",
        "# Preprocess the words before getting their vectors\n",
        "w1 = preprocess(\"Aspiring human resources\")\n",
        "w2 = preprocess(\"seeking human resources\")\n",
        "\n",
        "print(f\"w1 becomes: {w1}\")\n",
        "print(f\"w2 becomes: {w2}\")"
      ],
      "metadata": {
        "id": "fp0tVThQesxx",
        "outputId": "dbb8b575-13d4-4b5d-d2ec-3e424656acff",
        "colab": {
          "base_uri": "https://localhost:8080/"
        }
      },
      "execution_count": 21,
      "outputs": [
        {
          "output_type": "stream",
          "name": "stdout",
          "text": [
            "w1 becomes: aspiring human resource\n",
            "w2 becomes: seeking human resource\n"
          ]
        }
      ]
    },
    {
      "cell_type": "markdown",
      "source": [
        "### connection"
      ],
      "metadata": {
        "id": "XyBVbebZqytG"
      }
    },
    {
      "cell_type": "code",
      "source": [
        "# Make the \"connection\" column as a numeric column by making \"500+\" to \"500\" and leaving the rest\n",
        "df['connection'] = df['connection'].replace('500+ ', '500').astype(int)\n",
        "df['connection'] = df['connection'].replace('500+', '500').astype(int)\n"
      ],
      "metadata": {
        "id": "QJJM0AuLq1wM"
      },
      "execution_count": 35,
      "outputs": []
    },
    {
      "cell_type": "code",
      "source": [
        "# Scale the \"connection\" column\n",
        "\n",
        "# Initialize the scaler\n",
        "scaler = MinMaxScaler()\n",
        "\n",
        "# Scale the 'connections' column\n",
        "df['connection_scaled'] = scaler.fit_transform(df[['connection']])"
      ],
      "metadata": {
        "id": "VEV0-lLernez"
      },
      "execution_count": 40,
      "outputs": []
    },
    {
      "cell_type": "markdown",
      "source": [
        "## Doc2Vec"
      ],
      "metadata": {
        "id": "vLMAO7Gydbca"
      }
    },
    {
      "cell_type": "code",
      "source": [
        "# Create doc2vec embeddings for all job titles, and w1 (chosen phrases)\n",
        "\n",
        "# Tokenize the job_titles\n",
        "data = [word_tokenize(title) for title in df['job_title']]\n",
        "\n",
        "# Create tagged documents\n",
        "tagged_data = [TaggedDocument(words=_d, tags=[str(i)]) for i, _d in enumerate(data)]\n",
        "\n",
        "# Set-up the model\n",
        "model = Doc2Vec(vector_size=20,      # Dimensionality of the feature vectors\n",
        "                window=2,            # The maximum distance between the current and predicted word within a sentence.\n",
        "                min_count=1,         # Ignores all words with total frequency lower than this.\n",
        "                workers=4,           # Use these many worker threads to train the model\n",
        "                epochs=100)          # Number of iterations (epochs) over the corpus\n",
        "\n",
        "# Build vocabulary from a sequence of sentences\n",
        "model.build_vocab(tagged_data)\n",
        "\n",
        "# Train the model\n",
        "model.train(tagged_data,\n",
        "            total_examples=model.corpus_count,\n",
        "            epochs=model.epochs)\n",
        "\n",
        "# Extract vectors of all job_titles\n",
        "vectors = [model.dv[i] for i in range(len(df['job_title']))]\n",
        "\n",
        "# now 'vectors' contains the doc2vec vectors for each job_title\n",
        "\n",
        "# Infer the vector for each chosen phrase\n",
        "v1 = model.infer_vector(word_tokenize(w1))\n",
        "v2 = model.infer_vector(word_tokenize(w2))"
      ],
      "metadata": {
        "id": "9H9xa-jvZ3iP"
      },
      "execution_count": 24,
      "outputs": []
    },
    {
      "cell_type": "code",
      "source": [
        "# Calculate Cosine Similarity between w1 and each job_title\n",
        "\n",
        "# Initialize an empty list to store the similarities\n",
        "similarities = []\n",
        "\n",
        "# Loop through each job title vector\n",
        "for vec in vectors:\n",
        "    # Reshape vectors to 2D arrays necessary for cosine_similarity function\n",
        "    vec = np.array(vec).reshape(1, -1)\n",
        "    v1 = np.array(v1).reshape(1, -1)\n",
        "\n",
        "    # Calculate similarity and append to the list\n",
        "    sim = cosine_similarity(vec, v1)\n",
        "    similarities.append(sim[0][0])\n",
        "\n",
        "# Now 'similarities' is a list of cosine similarities between 'w1' and each job title.\n",
        "\n",
        "# Add the 'similarities' list as a new column to the dataframe\n",
        "df['similarity'] = similarities\n",
        "\n",
        "print(f\"Size of Similarities: {len(similarities)}\")"
      ],
      "metadata": {
        "id": "f2aR_HoJpe4E",
        "outputId": "695d76e4-1af0-4984-9c61-2c9ad38a29bf",
        "colab": {
          "base_uri": "https://localhost:8080/"
        }
      },
      "execution_count": 42,
      "outputs": [
        {
          "output_type": "stream",
          "name": "stdout",
          "text": [
            "Size of Similarities: 104\n"
          ]
        }
      ]
    },
    {
      "cell_type": "markdown",
      "source": [
        "## Weighted Sum"
      ],
      "metadata": {
        "id": "jwuLdz_-tevp"
      }
    },
    {
      "cell_type": "code",
      "source": [
        "# Set weights here\n",
        "weight_similarity = 0.8\n",
        "weight_connection = 0.2\n",
        "\n",
        "# Ensure weights add up to 1\n",
        "assert weight_similarity + weight_connection == 1, \"Weights should add up to 1\"\n",
        "\n",
        "# Create the weighted sum column\n",
        "df['ranking'] = weight_similarity * df['similarity'] + weight_connection * df['connection_scaled']\n"
      ],
      "metadata": {
        "id": "CkLT2ycrtdnA"
      },
      "execution_count": 44,
      "outputs": []
    },
    {
      "cell_type": "code",
      "source": [],
      "metadata": {
        "id": "KKPRsJDhvQW_"
      },
      "execution_count": null,
      "outputs": []
    }
  ],
  "metadata": {
    "kernelspec": {
      "display_name": "Python 3",
      "language": "python",
      "name": "python3"
    },
    "language_info": {
      "codemirror_mode": {
        "name": "ipython",
        "version": 3
      },
      "file_extension": ".py",
      "mimetype": "text/x-python",
      "name": "python",
      "nbconvert_exporter": "python",
      "pygments_lexer": "ipython3",
      "version": "3.10.11"
    },
    "orig_nbformat": 4,
    "colab": {
      "provenance": [],
      "toc_visible": true
    }
  },
  "nbformat": 4,
  "nbformat_minor": 0
}