{
  "cells": [
    {
      "cell_type": "markdown",
      "metadata": {
        "id": "-p3iwGp-U5RR"
      },
      "source": [
        "# Potential Talents\n",
        "---\n",
        "## Summary\n",
        "**Background:**\n",
        "\n",
        "As a talent sourcing and management company, we are interested in finding talented individuals for sourcing these candidates to technology companies. Finding talented candidates is not easy, for several reasons. The first reason is one needs to understand what the role is very well to fill in that spot, this requires understanding the client’s needs and what they are looking for in a potential candidate. The second reason is one needs to understand what makes a candidate shine for the role we are in search for. Third, where to find talented individuals is another challenge.\n",
        "\n",
        "The nature of our job requires a lot of human labor and is full of manual operations. Towards automating this process we want to build a better approach that could save us time and finally help us spot potential candidates that could fit the roles we are in search for. Moreover, going beyond that for a specific role we want to fill in we are interested in developing a machine learning powered pipeline that could spot talented individuals, and rank them based on their fitness.\n",
        "\n",
        "We are right now semi-automatically sourcing a few candidates, therefore the sourcing part is not a concern at this time but we expect to first determine best matching candidates based on how fit these candidates are for a given role. We generally make these searches based on some keywords such as “full-stack software engineer”, “engineering manager” or “aspiring human resources” based on the role we are trying to fill in. These keywords might change, and you can expect that specific keywords will be provided to you.\n",
        "\n",
        "Assuming that we were able to list and rank fitting candidates, we then employ a review procedure, as each candidate needs to be reviewed and then determined how good a fit they are through manual inspection. This procedure is done manually and at the end of this manual review, we might choose not the first fitting candidate in the list but maybe the 7th candidate in the list. If that happens, we are interested in being able to re-rank the previous list based on this information. This supervisory signal is going to be supplied by starring the 7th candidate in the list. Starring one candidate actually sets this candidate as an ideal candidate for the given role. Then, we expect the list to be re-ranked each time a candidate is starred.\n",
        "\n",
        "**Data Description**\n",
        "\n",
        "The data comes from our sourcing efforts. We removed any field that could directly reveal personal details and gave a unique identifier for each candidate.\n",
        "\n",
        "Attributes:\n",
        "- id : unique identifier for candidate (numeric)\n",
        "- job_title : job title for candidate (text)\n",
        "- location : geographical location for candidate (text)\n",
        "- connections: number of connections candidate has, 500+ means over 500 (text)\n",
        "\n",
        "Output (desired target):\n",
        "- fit - how fit the candidate is for the role? (numeric, probability between 0-1)\n",
        "\n",
        "Keywords: “Aspiring human resources” or “seeking human resources”\n",
        "\n",
        "**Goal(s):**\n",
        "\n",
        "- Predict how fit the candidate is based on their available information (variable fit)\n",
        "\n",
        "**Success Metric(s):**\n",
        "\n",
        "- Rank candidates based on a fitness score.\n",
        "- Re-rank candidates when a candidate is starred.\n",
        "\n",
        "**Bonus(es):**\n",
        "\n",
        "- We are interested in a robust algorithm, tell us how your solution works and show us how your ranking gets better with each starring action.\n",
        "- How can we filter out candidates which in the first place should not be in this list?\n",
        "- Can we determine a cut-off point that would work for other roles without losing high potential candidates?\n",
        "- Do you have any ideas that we should explore so that we can even automate this procedure to prevent human bias?"
      ]
    },
    {
      "cell_type": "markdown",
      "metadata": {
        "id": "PNGl5eeeVMcv"
      },
      "source": [
        "# Exploratory Data Analysis"
      ]
    },
    {
      "cell_type": "markdown",
      "metadata": {
        "id": "os1dIieGpGPB"
      },
      "source": [
        "## Import Libraries"
      ]
    },
    {
      "cell_type": "code",
      "execution_count": 31,
      "metadata": {
        "colab": {
          "base_uri": "https://localhost:8080/",
          "height": 479
        },
        "id": "k_wmVoPlU5RV",
        "outputId": "b5be01d1-37e2-403e-d814-6735c19c439f"
      },
      "outputs": [
        {
          "name": "stderr",
          "output_type": "stream",
          "text": [
            "[nltk_data] Downloading package punkt to\n",
            "[nltk_data]     C:\\Users\\danie\\AppData\\Roaming\\nltk_data...\n",
            "[nltk_data]   Package punkt is already up-to-date!\n",
            "[nltk_data] Downloading package stopwords to\n",
            "[nltk_data]     C:\\Users\\danie\\AppData\\Roaming\\nltk_data...\n",
            "[nltk_data]   Package stopwords is already up-to-date!\n",
            "[nltk_data] Downloading package wordnet to\n",
            "[nltk_data]     C:\\Users\\danie\\AppData\\Roaming\\nltk_data...\n",
            "[nltk_data]   Package wordnet is already up-to-date!\n"
          ]
        }
      ],
      "source": [
        "# Standards\n",
        "import pandas as pd\n",
        "import numpy as np\n",
        "import matplotlib.pyplot as plt\n",
        "import seaborn as sns\n",
        "import xgboost as xgb\n",
        "from scipy import stats\n",
        "\n",
        "# for doc2vec\n",
        "import gensim\n",
        "from gensim.models.doc2vec import Doc2Vec, TaggedDocument\n",
        "from nltk.tokenize import word_tokenize\n",
        "from sklearn.metrics.pairwise import cosine_similarity\n",
        "\n",
        "# for cleaning\n",
        "import re\n",
        "import nltk\n",
        "from nltk.corpus import stopwords\n",
        "from nltk.stem import WordNetLemmatizer, PorterStemmer\n",
        "# If running for the first time, download necessary NLTK data\n",
        "nltk.download('punkt')\n",
        "nltk.download('stopwords')\n",
        "nltk.download('wordnet')\n",
        "from sklearn.preprocessing import MinMaxScaler\n",
        "\n",
        "# for BERT\n",
        "from transformers import BertTokenizer, BertModel\n",
        "import torch\n",
        "\n",
        "# for ranking algorithm\n",
        "from sklearn.model_selection import train_test_split\n",
        "import lightgbm as lgb\n",
        "from sklearn.metrics import ndcg_score\n",
        "\n",
        "# Warnings\n",
        "import warnings\n",
        "\n",
        "# Suppress deprecation warnings\n",
        "#warnings.filterwarnings('ignore', category=FutureWarning)\n",
        "#warnings.filterwarnings('ignore', category=UserWarning)"
      ]
    },
    {
      "cell_type": "markdown",
      "metadata": {
        "id": "dM0NoQTEVSmv"
      },
      "source": [
        "## Import Data"
      ]
    },
    {
      "cell_type": "code",
      "execution_count": 2,
      "metadata": {
        "colab": {
          "base_uri": "https://localhost:8080/"
        },
        "id": "V5B4l3dHVSCm",
        "outputId": "4c2e3507-7470-47dc-ce65-29c01b41381f"
      },
      "outputs": [
        {
          "name": "stdout",
          "output_type": "stream",
          "text": [
            "x shape: (104, 3)\n",
            "y shape: (104,)\n"
          ]
        }
      ],
      "source": [
        "# Load the data from a CSV file\n",
        "dataset = pd.read_csv('potential-talents.csv')\n",
        "\n",
        "# Extract only 2 feature columns\n",
        "x = dataset.iloc[:, [0,1,3]].values\n",
        "y = dataset.iloc[:, 4].values\n",
        "\n",
        "# Create a DataFrame with the feature columns\n",
        "df = pd.DataFrame(x, columns=['id','job_title', 'connection'])\n",
        "\n",
        "print(f\"x shape: {x.shape}\")\n",
        "print(f\"y shape: {y.shape}\")"
      ]
    },
    {
      "cell_type": "markdown",
      "metadata": {
        "id": "34L-_uYpZrXu"
      },
      "source": [
        "# Data Preprocessing"
      ]
    },
    {
      "cell_type": "markdown",
      "metadata": {
        "id": "vUpswEdtZ2OB"
      },
      "source": [
        "## Missing Data"
      ]
    },
    {
      "cell_type": "code",
      "execution_count": 3,
      "metadata": {
        "colab": {
          "base_uri": "https://localhost:8080/"
        },
        "id": "kAJIR7NWZuE8",
        "outputId": "33844ac3-106d-4250-c8cc-8d8784fe7ed3"
      },
      "outputs": [
        {
          "name": "stdout",
          "output_type": "stream",
          "text": [
            "Missing Data:\n",
            "id              0\n",
            "job_title       0\n",
            "location        0\n",
            "connection      0\n",
            "fit           104\n",
            "dtype: int64\n"
          ]
        }
      ],
      "source": [
        "# Handle missing data\n",
        "missing_data = dataset.isnull().sum()\n",
        "print(\"Missing Data:\")\n",
        "print(missing_data)\n",
        "\n",
        "# Impute missing values\n",
        "#imputer = SimpleImputer(strategy='mean')  # Use mean imputation for numeric features\n",
        "#dataset[numeric_features] = imputer.fit_transform(dataset[numeric_features])"
      ]
    },
    {
      "attachments": {},
      "cell_type": "markdown",
      "metadata": {},
      "source": [
        "## Deduplicate"
      ]
    },
    {
      "cell_type": "code",
      "execution_count": 4,
      "metadata": {},
      "outputs": [
        {
          "name": "stdout",
          "output_type": "stream",
          "text": [
            "Shape of the DataFrame before removing duplicates: (104, 3)\n",
            "Shape of the DataFrame after removing duplicates: (53, 3)\n",
            "Index reset after removing duplicates.\n"
          ]
        }
      ],
      "source": [
        "# Print the shape of the DataFrame before removing duplicates\n",
        "print(f\"Shape of the DataFrame before removing duplicates: {df.shape}\")\n",
        "\n",
        "# Remove duplicates and print the shape of the DataFrame after removing duplicates\n",
        "df = df.drop_duplicates(subset=['job_title', 'connection'])\n",
        "print(f\"Shape of the DataFrame after removing duplicates: {df.shape}\")\n",
        "\n",
        "# Reset the index and print a success message\n",
        "df = df.reset_index(drop=True)\n",
        "print(\"Index reset after removing duplicates.\")\n"
      ]
    },
    {
      "cell_type": "markdown",
      "metadata": {
        "id": "pgWXOVVpenDE"
      },
      "source": [
        "## Cleaning\n",
        "\n"
      ]
    },
    {
      "cell_type": "markdown",
      "metadata": {
        "id": "rVLqojoaqwyv"
      },
      "source": [
        "### job_title"
      ]
    },
    {
      "cell_type": "code",
      "execution_count": 5,
      "metadata": {
        "id": "Xf0VvK0bepoV"
      },
      "outputs": [],
      "source": [
        "# Initialize lemmatizer and stemmer\n",
        "lemmatizer = WordNetLemmatizer()\n",
        "stemmer = PorterStemmer()\n",
        "\n",
        "# Define preprocesser\n",
        "def preprocess(document):\n",
        "\n",
        "    document = document.lower() # Convert text to lower case\n",
        "    document = re.sub(r'\\d+', '', document) # Remove numbers\n",
        "    document = re.sub(r'\\W', ' ', document) # Remove punctuation\n",
        "    document = document.strip() # Remove leading/trailing white space\n",
        "\n",
        "    tokens = nltk.word_tokenize(document) # Tokenize into words\n",
        "    tokens = [word for word in tokens if word not in stopwords.words('english')]  # Remove stopwords\n",
        "\n",
        "    # Lemmatize or stem the words\n",
        "    # For lemmatization:\n",
        "    tokens = [lemmatizer.lemmatize(word) for word in tokens]\n",
        "\n",
        "    # For stemming:\n",
        "    # tokens = [stemmer.stem(word) for word in tokens]\n",
        "\n",
        "    document = \" \".join(tokens) # Join the processed words back into a single string\n",
        "\n",
        "    return document"
      ]
    },
    {
      "cell_type": "code",
      "execution_count": 6,
      "metadata": {
        "colab": {
          "base_uri": "https://localhost:8080/"
        },
        "id": "fp0tVThQesxx",
        "outputId": "dbb8b575-13d4-4b5d-d2ec-3e424656acff"
      },
      "outputs": [
        {
          "name": "stdout",
          "output_type": "stream",
          "text": [
            "w1 becomes: aspiring human resource\n",
            "w2 becomes: seeking human resource\n"
          ]
        }
      ],
      "source": [
        "# Clean columns\n",
        "df['job_title'] = df['job_title'].apply(preprocess)\n",
        "\n",
        "# Preprocess the words before getting their vectors\n",
        "w1 = preprocess(\"Aspiring human resources\")\n",
        "w2 = preprocess(\"seeking human resources\")\n",
        "\n",
        "print(f\"w1 becomes: {w1}\")\n",
        "print(f\"w2 becomes: {w2}\")"
      ]
    },
    {
      "cell_type": "markdown",
      "metadata": {
        "id": "XyBVbebZqytG"
      },
      "source": [
        "### connection"
      ]
    },
    {
      "cell_type": "code",
      "execution_count": 7,
      "metadata": {
        "id": "QJJM0AuLq1wM"
      },
      "outputs": [],
      "source": [
        "# Make the \"connection\" column as a numeric column by making \"500+\" to \"500\" and leaving the rest\n",
        "df['connection'] = df['connection'].replace('500+ ', '500').astype(int)\n",
        "df['connection'] = df['connection'].replace('500+', '500').astype(int)\n"
      ]
    },
    {
      "cell_type": "code",
      "execution_count": 8,
      "metadata": {
        "id": "VEV0-lLernez"
      },
      "outputs": [],
      "source": [
        "# Scale the \"connection\" column\n",
        "\n",
        "# Initialize the scaler\n",
        "scaler = MinMaxScaler()\n",
        "\n",
        "# Scale the 'connections' column\n",
        "df['connection_scaled'] = scaler.fit_transform(df[['connection']])"
      ]
    },
    {
      "attachments": {},
      "cell_type": "markdown",
      "metadata": {},
      "source": [
        "# Natural Language Processing"
      ]
    },
    {
      "cell_type": "markdown",
      "metadata": {
        "id": "vLMAO7Gydbca"
      },
      "source": [
        "## Doc2Vec"
      ]
    },
    {
      "cell_type": "code",
      "execution_count": 9,
      "metadata": {
        "id": "9H9xa-jvZ3iP"
      },
      "outputs": [],
      "source": [
        "# Create doc2vec embeddings for all job titles, and w1 (chosen phrases)\n",
        "\n",
        "# Tokenize the job_titles\n",
        "data = [word_tokenize(title) for title in df['job_title']]\n",
        "\n",
        "# Create tagged documents\n",
        "tagged_data = [TaggedDocument(words=_d, tags=[str(i)]) for i, _d in enumerate(data)]\n",
        "\n",
        "# Set-up the model\n",
        "model = Doc2Vec(vector_size=20,      # Dimensionality of the feature vectors\n",
        "                window=2,            # The maximum distance between the current and predicted word within a sentence.\n",
        "                min_count=1,         # Ignores all words with total frequency lower than this.\n",
        "                workers=4,           # Use these many worker threads to train the model\n",
        "                epochs=100)          # Number of iterations (epochs) over the corpus\n",
        "\n",
        "# Build vocabulary from a sequence of sentences\n",
        "model.build_vocab(tagged_data)\n",
        "\n",
        "# Train the model\n",
        "model.train(tagged_data,\n",
        "            total_examples=model.corpus_count,\n",
        "            epochs=model.epochs)\n",
        "\n",
        "# Extract vectors of all job_titles\n",
        "vectors = [model.dv[i] for i in range(len(df['job_title']))]\n",
        "\n",
        "# now 'vectors' contains the doc2vec vectors for each job_title\n",
        "\n",
        "df['doc2vec_embeddings'] = vectors\n",
        "\n",
        "# Infer the vector for each chosen phrase\n",
        "v1 = model.infer_vector(word_tokenize(w1))\n",
        "v2 = model.infer_vector(word_tokenize(w2))"
      ]
    },
    {
      "cell_type": "code",
      "execution_count": 10,
      "metadata": {
        "colab": {
          "base_uri": "https://localhost:8080/"
        },
        "id": "f2aR_HoJpe4E",
        "outputId": "695d76e4-1af0-4984-9c61-2c9ad38a29bf"
      },
      "outputs": [
        {
          "name": "stdout",
          "output_type": "stream",
          "text": [
            "Size of Similarities: 53\n"
          ]
        }
      ],
      "source": [
        "# Calculate Cosine Similarity between w1 and each job_title\n",
        "\n",
        "# Initialize an empty list to store the similarities\n",
        "similarities = []\n",
        "\n",
        "# Loop through each job title vector\n",
        "for vec in vectors:\n",
        "    # Reshape vectors to 2D arrays necessary for cosine_similarity function\n",
        "    vec = np.array(vec).reshape(1, -1)\n",
        "    v1 = np.array(v1).reshape(1, -1)\n",
        "\n",
        "    # Calculate similarity and append to the list\n",
        "    sim = cosine_similarity(vec, v1)\n",
        "    similarities.append(sim[0][0])\n",
        "\n",
        "# Now 'similarities' is a list of cosine similarities between 'w1' and each job title.\n",
        "\n",
        "# Add the 'similarities' list as a new column to the dataframe\n",
        "df['similarity'] = similarities\n",
        "\n",
        "print(f\"Size of Similarities: {len(similarities)}\")"
      ]
    },
    {
      "attachments": {},
      "cell_type": "markdown",
      "metadata": {},
      "source": [
        "## BERT\n",
        "(Bidirectional Encoder Representations from Transformers)"
      ]
    },
    {
      "cell_type": "code",
      "execution_count": 11,
      "metadata": {},
      "outputs": [
        {
          "name": "stderr",
          "output_type": "stream",
          "text": [
            "Some weights of the model checkpoint at bert-base-uncased were not used when initializing BertModel: ['cls.predictions.transform.dense.bias', 'cls.predictions.transform.LayerNorm.weight', 'cls.seq_relationship.bias', 'cls.predictions.transform.LayerNorm.bias', 'cls.seq_relationship.weight', 'cls.predictions.transform.dense.weight', 'cls.predictions.bias']\n",
            "- This IS expected if you are initializing BertModel from the checkpoint of a model trained on another task or with another architecture (e.g. initializing a BertForSequenceClassification model from a BertForPreTraining model).\n",
            "- This IS NOT expected if you are initializing BertModel from the checkpoint of a model that you expect to be exactly identical (initializing a BertForSequenceClassification model from a BertForSequenceClassification model).\n"
          ]
        }
      ],
      "source": [
        "# Load pre-trained model tokenizer\n",
        "tokenizer = BertTokenizer.from_pretrained('bert-base-uncased')\n",
        "\n",
        "# Load pre-trained model\n",
        "model = BertModel.from_pretrained('bert-base-uncased')\n",
        "\n",
        "# Function to generate BERT embeddings\n",
        "def generate_bert_embeddings(text):\n",
        "    # Add the special tokens for BERT\n",
        "    marked_text = \"[CLS] \" + text + \" [SEP]\"\n",
        "\n",
        "    # Tokenize our sentence with the BERT tokenizer.\n",
        "    tokenized_text = tokenizer.tokenize(marked_text)\n",
        "\n",
        "    # Map the token strings to their vocabulary indices.\n",
        "    indexed_tokens = tokenizer.convert_tokens_to_ids(tokenized_text)\n",
        "\n",
        "    # Mark each token as belonging to sentence \"1\".\n",
        "    segments_ids = [1] * len(tokenized_text)\n",
        "\n",
        "    # Convert inputs to PyTorch tensors\n",
        "    tokens_tensor = torch.tensor([indexed_tokens])\n",
        "    segments_tensors = torch.tensor([segments_ids])\n",
        "\n",
        "    # Put the model in \"evaluation\" mode, meaning feed-forward operation.\n",
        "    model.eval()\n",
        "\n",
        "    # Predict hidden states features for each layer\n",
        "    with torch.no_grad():\n",
        "        outputs = model(tokens_tensor, segments_tensors)\n",
        "        # `outputs` is a tuple, we only need the token embeddings from the first element of the tuple\n",
        "        encoded_layers = outputs[0]\n",
        "\n",
        "    # Get the embeddings of the [CLS] token as the text embedding\n",
        "    text_embedding = encoded_layers[0][0]\n",
        "\n",
        "    return text_embedding.numpy()  # Convert tensor to numpy array for easier use\n",
        "\n",
        "# Generate BERT embeddings for all job titles and store in a list\n",
        "bert_embeddings = df['job_title'].apply(generate_bert_embeddings).tolist()\n",
        "\n",
        "df['bert_embeddings'] = bert_embeddings\n",
        "\n",
        "# Generate BERT embedding for each chosen phrase\n",
        "w1_bert = generate_bert_embeddings(w1)\n",
        "w2_bert = generate_bert_embeddings(w2)"
      ]
    },
    {
      "cell_type": "code",
      "execution_count": 12,
      "metadata": {},
      "outputs": [
        {
          "name": "stdout",
          "output_type": "stream",
          "text": [
            "Size of bert_Similarities: 53\n"
          ]
        }
      ],
      "source": [
        "# Initialize an empty list to store the similarities\n",
        "bert_similarities = []\n",
        "\n",
        "# Loop through each BERT job title vector\n",
        "for bert_vec in bert_embeddings:\n",
        "    # Reshape vectors to 2D arrays necessary for cosine_similarity function\n",
        "    bert_vec = np.array(bert_vec).reshape(1, -1)\n",
        "    w1_bert = np.array(w1_bert).reshape(1, -1)\n",
        "\n",
        "    # Calculate similarity and append to the list\n",
        "    sim = cosine_similarity(bert_vec, w1_bert)\n",
        "    bert_similarities.append(sim[0][0])\n",
        "\n",
        "# Now 'bert_similarities' is a list of cosine similarities between 'w1' and each job title\n",
        "\n",
        "# Add the 'similarities' list as a new column to the dataframe\n",
        "df['bert_similarity'] = bert_similarities\n",
        "\n",
        "print(f\"Size of bert_Similarities: {len(bert_similarities)}\")"
      ]
    },
    {
      "cell_type": "markdown",
      "metadata": {
        "id": "jwuLdz_-tevp"
      },
      "source": [
        "## Weighted Sum"
      ]
    },
    {
      "cell_type": "code",
      "execution_count": 13,
      "metadata": {
        "id": "CkLT2ycrtdnA"
      },
      "outputs": [],
      "source": [
        "# Set weights here\n",
        "weight_similarity = 0.8\n",
        "weight_connection = 0.2\n",
        "\n",
        "# Ensure weights add up to 1\n",
        "assert weight_similarity + weight_connection == 1, \"Weights should add up to 1\"\n",
        "\n",
        "# Create the weighted sum column\n",
        "df['ranking'] = weight_similarity * df['similarity'] + weight_connection * df['connection_scaled']\n"
      ]
    },
    {
      "cell_type": "code",
      "execution_count": 14,
      "metadata": {
        "id": "KKPRsJDhvQW_"
      },
      "outputs": [],
      "source": [
        "# Set BERT weights here\n",
        "weight_similarity_bert = 0.8\n",
        "weight_connection = 0.2\n",
        "\n",
        "# Ensure weights add up to 1\n",
        "assert weight_similarity_bert + weight_connection == 1, \"Weights should add up to 1\"\n",
        "\n",
        "# Create the weighted sum column\n",
        "df['bert_ranking'] = weight_similarity_bert * df['bert_similarity'] + weight_connection * df['connection_scaled']"
      ]
    },
    {
      "attachments": {},
      "cell_type": "markdown",
      "metadata": {},
      "source": [
        "# Initial Ranking"
      ]
    },
    {
      "cell_type": "code",
      "execution_count": 15,
      "metadata": {},
      "outputs": [
        {
          "name": "stdout",
          "output_type": "stream",
          "text": [
            "Top 10 rankings based on Doc2Vec:\n",
            "\n",
            " id                                                     job_title  ranking\n",
            "  8                                          hr senior specialist 0.825633\n",
            " 27 aspiring human resource management student seeking internship 0.820343\n",
            " 67               human resource staffing recruiting professional 0.819745\n",
            " 71                     human resource generalist scottmadden inc 0.818347\n",
            " 69         director human resource north america groupe beneteau 0.817128\n",
            "  4                           people development coordinator ryan 0.813560\n",
            "103                                            always set success 0.810582\n",
            "  2             native english teacher epik english program korea 0.809023\n",
            "  5                  advisory board member celal bayar university 0.807815\n",
            " 85 rrp brand portfolio executive jti japan tobacco international 0.806603\n",
            "\n",
            "Top 10 rankings based on BERT:\n",
            "\n",
            " id                                                                  job_title  bert_ranking\n",
            " 27              aspiring human resource management student seeking internship      0.923905\n",
            "  8                                                       hr senior specialist      0.920956\n",
            " 67                            human resource staffing recruiting professional      0.917379\n",
            "104                                 director administration excellence logging      0.914063\n",
            " 71                                  human resource generalist scottmadden inc      0.911093\n",
            "  4                                        people development coordinator ryan      0.908201\n",
            "101                                          human resource generalist loparex      0.907506\n",
            " 68                                        human resource specialist luxottica      0.906092\n",
            " 75 nortia staffing seeking human resource payroll administrative professional      0.904601\n",
            " 78                                           human resource generalist schwan      0.903750\n"
          ]
        }
      ],
      "source": [
        "# Sorting by Doc2Vec ranking\n",
        "doc2vec_ranking = df.sort_values('ranking', ascending=False)\n",
        "\n",
        "# Sorting by BERT ranking\n",
        "bert_ranking = df.sort_values('bert_ranking', ascending=False)\n",
        "\n",
        "# Select specific columns\n",
        "doc2vec_ranking = doc2vec_ranking[['id', 'job_title', 'ranking']]\n",
        "bert_ranking = bert_ranking[['id', 'job_title', 'bert_ranking']]\n",
        "\n",
        "# Print top 10 \n",
        "print(\"Top 10 rankings based on Doc2Vec:\\n\")\n",
        "print(doc2vec_ranking.head(10).to_string(index=False))\n",
        "print(\"\\nTop 10 rankings based on BERT:\\n\")\n",
        "print(bert_ranking.head(10).to_string(index=False))\n",
        "\n",
        "# Get the IDs of top 10 candidates based on BERT rankings\n",
        "top10_bert_ids = bert_ranking['id'].head(10).values\n",
        "\n",
        "# Create a new 'starred' column, initially setting all values to False\n",
        "df['starred'] = 0\n",
        "\n",
        "# Set 'starred' to True for top 10 candidates\n",
        "df.loc[df['id'].isin(top10_bert_ids), 'starred'] = 1\n"
      ]
    },
    {
      "attachments": {},
      "cell_type": "markdown",
      "metadata": {},
      "source": [
        "# LambdaRank"
      ]
    },
    {
      "attachments": {},
      "cell_type": "markdown",
      "metadata": {},
      "source": [
        "## Preprocessing"
      ]
    },
    {
      "cell_type": "code",
      "execution_count": 23,
      "metadata": {},
      "outputs": [
        {
          "name": "stdout",
          "output_type": "stream",
          "text": [
            "x_train shape: (42, 3)\n",
            "y_train shape: (42,)\n",
            "x_test shape: (11, 3)\n",
            "y_test shape: (11,)\n"
          ]
        }
      ],
      "source": [
        "x = df[['similarity', 'bert_similarity', 'connection_scaled']]\n",
        "y = df['starred']\n",
        "\n",
        "# Split the data into training and testing sets\n",
        "random_state = 137\n",
        "x_train, x_test, y_train, y_test = train_test_split(x, y, test_size=0.20, random_state=random_state, shuffle=True)\n",
        "\n",
        "# Visualize the shapes of the training and testing sets\n",
        "print(\"x_train shape:\", x_train.shape)\n",
        "print(\"y_train shape:\", y_train.shape)\n",
        "print(\"x_test shape:\", x_test.shape)\n",
        "print(\"y_test shape:\", y_test.shape)"
      ]
    },
    {
      "cell_type": "code",
      "execution_count": 24,
      "metadata": {},
      "outputs": [
        {
          "name": "stdout",
          "output_type": "stream",
          "text": [
            "       similarity  bert_similarity  connection_scaled\n",
            "count   53.000000        53.000000          53.000000\n",
            "mean     0.704408         0.882758           0.482777\n",
            "std      0.175138         0.028989           0.435000\n",
            "min     -0.389306         0.833813           0.000000\n",
            "25%      0.719630         0.862614           0.086172\n",
            "50%      0.750570         0.879211           0.308617\n",
            "75%      0.766520         0.896724           1.000000\n",
            "max      0.816687         0.952651           1.000000\n"
          ]
        },
        {
          "data": {
            "image/png": "[encoded data removed]",
            "text/plain": [
              "<Figure size 640x480 with 4 Axes>"
            ]
          },
          "metadata": {},
          "output_type": "display_data"
        }
      ],
      "source": [
        "# Summary statistics\n",
        "print(x.describe())\n",
        "\n",
        "# Histograms\n",
        "x.hist()\n",
        "plt.suptitle(\"Histograms of numeric features\")\n",
        "\n",
        "# Adjust spacing between subplots\n",
        "plt.subplots_adjust(left=0.1, right=0.9, bottom=0.1, top=0.9, wspace=0.3, hspace=0.75)\n",
        "\n",
        "plt.show()"
      ]
    },
    {
      "attachments": {},
      "cell_type": "markdown",
      "metadata": {},
      "source": [
        "## Training"
      ]
    },
    {
      "cell_type": "code",
      "execution_count": 33,
      "metadata": {},
      "outputs": [
        {
          "name": "stdout",
          "output_type": "stream",
          "text": [
            "[LightGBM] [Warning] Auto-choosing col-wise multi-threading, the overhead of testing was 0.000186 seconds.\n",
            "You can set `force_col_wise=true` to remove the overhead.\n",
            "[LightGBM] [Info] Total Bins 42\n",
            "[LightGBM] [Info] Number of data points in the train set: 42, number of used features: 3\n",
            "[LightGBM] [Warning] No further splits with positive gain, best gain: -inf\n",
            "[LightGBM] [Warning] No further splits with positive gain, best gain: -inf\n",
            "[LightGBM] [Warning] No further splits with positive gain, best gain: -inf\n",
            "[LightGBM] [Warning] No further splits with positive gain, best gain: -inf\n",
            "[LightGBM] [Warning] No further splits with positive gain, best gain: -inf\n",
            "[LightGBM] [Warning] No further splits with positive gain, best gain: -inf\n",
            "[LightGBM] [Warning] No further splits with positive gain, best gain: -inf\n",
            "[LightGBM] [Warning] No further splits with positive gain, best gain: -inf\n",
            "[LightGBM] [Warning] No further splits with positive gain, best gain: -inf\n",
            "[LightGBM] [Warning] No further splits with positive gain, best gain: -inf\n",
            "[LightGBM] [Warning] No further splits with positive gain, best gain: -inf\n",
            "[LightGBM] [Warning] No further splits with positive gain, best gain: -inf\n",
            "[LightGBM] [Warning] No further splits with positive gain, best gain: -inf\n",
            "[LightGBM] [Warning] No further splits with positive gain, best gain: -inf\n",
            "[LightGBM] [Warning] No further splits with positive gain, best gain: -inf\n",
            "[LightGBM] [Warning] No further splits with positive gain, best gain: -inf\n",
            "[LightGBM] [Warning] No further splits with positive gain, best gain: -inf\n",
            "[LightGBM] [Warning] No further splits with positive gain, best gain: -inf\n",
            "[LightGBM] [Warning] No further splits with positive gain, best gain: -inf\n",
            "[LightGBM] [Warning] No further splits with positive gain, best gain: -inf\n",
            "[LightGBM] [Warning] No further splits with positive gain, best gain: -inf\n",
            "[LightGBM] [Warning] No further splits with positive gain, best gain: -inf\n",
            "[LightGBM] [Warning] No further splits with positive gain, best gain: -inf\n",
            "[LightGBM] [Warning] No further splits with positive gain, best gain: -inf\n",
            "[LightGBM] [Warning] No further splits with positive gain, best gain: -inf\n",
            "[LightGBM] [Warning] No further splits with positive gain, best gain: -inf\n",
            "[LightGBM] [Warning] No further splits with positive gain, best gain: -inf\n",
            "[LightGBM] [Warning] No further splits with positive gain, best gain: -inf\n",
            "[LightGBM] [Warning] No further splits with positive gain, best gain: -inf\n",
            "[LightGBM] [Warning] No further splits with positive gain, best gain: -inf\n",
            "[LightGBM] [Warning] No further splits with positive gain, best gain: -inf\n",
            "[LightGBM] [Warning] No further splits with positive gain, best gain: -inf\n",
            "[LightGBM] [Warning] No further splits with positive gain, best gain: -inf\n",
            "[LightGBM] [Warning] No further splits with positive gain, best gain: -inf\n",
            "[LightGBM] [Warning] No further splits with positive gain, best gain: -inf\n",
            "[LightGBM] [Warning] No further splits with positive gain, best gain: -inf\n",
            "[LightGBM] [Warning] No further splits with positive gain, best gain: -inf\n",
            "[LightGBM] [Warning] No further splits with positive gain, best gain: -inf\n",
            "[LightGBM] [Warning] No further splits with positive gain, best gain: -inf\n",
            "[LightGBM] [Warning] No further splits with positive gain, best gain: -inf\n",
            "[LightGBM] [Warning] No further splits with positive gain, best gain: -inf\n",
            "[LightGBM] [Warning] No further splits with positive gain, best gain: -inf\n",
            "[LightGBM] [Warning] No further splits with positive gain, best gain: -inf\n",
            "[LightGBM] [Warning] No further splits with positive gain, best gain: -inf\n",
            "[LightGBM] [Warning] No further splits with positive gain, best gain: -inf\n",
            "[LightGBM] [Warning] No further splits with positive gain, best gain: -inf\n",
            "[LightGBM] [Warning] No further splits with positive gain, best gain: -inf\n",
            "[LightGBM] [Warning] No further splits with positive gain, best gain: -inf\n",
            "[LightGBM] [Warning] No further splits with positive gain, best gain: -inf\n",
            "[LightGBM] [Warning] No further splits with positive gain, best gain: -inf\n",
            "[LightGBM] [Warning] No further splits with positive gain, best gain: -inf\n",
            "[LightGBM] [Warning] No further splits with positive gain, best gain: -inf\n",
            "[LightGBM] [Warning] No further splits with positive gain, best gain: -inf\n",
            "[LightGBM] [Warning] No further splits with positive gain, best gain: -inf\n",
            "[LightGBM] [Warning] No further splits with positive gain, best gain: -inf\n",
            "[LightGBM] [Warning] No further splits with positive gain, best gain: -inf\n",
            "[LightGBM] [Warning] No further splits with positive gain, best gain: -inf\n",
            "[LightGBM] [Warning] No further splits with positive gain, best gain: -inf\n",
            "[LightGBM] [Warning] No further splits with positive gain, best gain: -inf\n",
            "[LightGBM] [Warning] No further splits with positive gain, best gain: -inf\n",
            "[LightGBM] [Warning] No further splits with positive gain, best gain: -inf\n",
            "[LightGBM] [Warning] No further splits with positive gain, best gain: -inf\n",
            "[LightGBM] [Warning] No further splits with positive gain, best gain: -inf\n",
            "[LightGBM] [Warning] No further splits with positive gain, best gain: -inf\n",
            "[LightGBM] [Warning] No further splits with positive gain, best gain: -inf\n",
            "[LightGBM] [Warning] No further splits with positive gain, best gain: -inf\n",
            "[LightGBM] [Warning] No further splits with positive gain, best gain: -inf\n",
            "[LightGBM] [Warning] No further splits with positive gain, best gain: -inf\n",
            "[LightGBM] [Warning] No further splits with positive gain, best gain: -inf\n",
            "[LightGBM] [Warning] No further splits with positive gain, best gain: -inf\n",
            "[LightGBM] [Warning] No further splits with positive gain, best gain: -inf\n",
            "[LightGBM] [Warning] No further splits with positive gain, best gain: -inf\n",
            "[LightGBM] [Warning] No further splits with positive gain, best gain: -inf\n",
            "[LightGBM] [Warning] No further splits with positive gain, best gain: -inf\n",
            "[LightGBM] [Warning] No further splits with positive gain, best gain: -inf\n",
            "[LightGBM] [Warning] No further splits with positive gain, best gain: -inf\n",
            "[LightGBM] [Warning] No further splits with positive gain, best gain: -inf\n",
            "[LightGBM] [Warning] No further splits with positive gain, best gain: -inf\n",
            "[LightGBM] [Warning] No further splits with positive gain, best gain: -inf\n",
            "[LightGBM] [Warning] No further splits with positive gain, best gain: -inf\n",
            "[LightGBM] [Warning] No further splits with positive gain, best gain: -inf\n",
            "[LightGBM] [Warning] No further splits with positive gain, best gain: -inf\n",
            "[LightGBM] [Warning] No further splits with positive gain, best gain: -inf\n",
            "[LightGBM] [Warning] No further splits with positive gain, best gain: -inf\n",
            "[LightGBM] [Warning] No further splits with positive gain, best gain: -inf\n",
            "[LightGBM] [Warning] No further splits with positive gain, best gain: -inf\n",
            "[LightGBM] [Warning] No further splits with positive gain, best gain: -inf\n",
            "[LightGBM] [Warning] No further splits with positive gain, best gain: -inf\n",
            "[LightGBM] [Warning] No further splits with positive gain, best gain: -inf\n",
            "[LightGBM] [Warning] No further splits with positive gain, best gain: -inf\n",
            "[LightGBM] [Warning] No further splits with positive gain, best gain: -inf\n",
            "[LightGBM] [Warning] No further splits with positive gain, best gain: -inf\n",
            "[LightGBM] [Warning] No further splits with positive gain, best gain: -inf\n",
            "[LightGBM] [Warning] No further splits with positive gain, best gain: -inf\n",
            "[LightGBM] [Warning] No further splits with positive gain, best gain: -inf\n",
            "[LightGBM] [Warning] No further splits with positive gain, best gain: -inf\n",
            "[LightGBM] [Warning] No further splits with positive gain, best gain: -inf\n",
            "[LightGBM] [Warning] No further splits with positive gain, best gain: -inf\n",
            "[LightGBM] [Warning] No further splits with positive gain, best gain: -inf\n",
            "[LightGBM] [Warning] No further splits with positive gain, best gain: -inf\n"
          ]
        }
      ],
      "source": [
        "# Create a LightGBM dataset\n",
        "lgb_train = lgb.Dataset(x_train, y_train, group=[x_train.shape[0]])\n",
        "\n",
        "# Set parameters for LightGBM.\n",
        "params = {\n",
        "    'objective': 'lambdarank',  # Specify LambdaRank\n",
        "    'metric': 'ndcg',  # Use Normalized Discounted Cumulative Gain (NDCG) for evaluation\n",
        "    'ndcg_eval_at': [10],  # Evaluate the model by the ranking of top 10 candidates\n",
        "    'learning_rate': 0.1,  # The learning rate\n",
        "    'num_leaves': 10,  # The number of leaves in one tree\n",
        "    'min_data_in_leaf': int(0.2*len(df)),  # Minimal number of data in one leaf (20% of current dataset size)\n",
        "}\n",
        "\n",
        "# Train the model\n",
        "gbm = lgb.train(params, lgb_train, num_boost_round=100)"
      ]
    },
    {
      "attachments": {},
      "cell_type": "markdown",
      "metadata": {},
      "source": [
        "## Validation\n",
        "\n",
        "The Normalized Discounted Cumulative Gain (NDCG) is calculated as follows:\n",
        "\n",
        "1. DCG (Discounted Cumulative Gain) - The gain is accumulated from the top of the result list to the bottom, with the gain of each result discounted at lower ranks.\n",
        "\n",
        "2. IDCG (Ideal Discounted Cumulative Gain) - Maximum possible DCG for a given set of queries, documents, or rankings.\n",
        "\n",
        "3. NDCG - The ratio of DCG to IDCG."
      ]
    },
    {
      "cell_type": "code",
      "execution_count": 39,
      "metadata": {},
      "outputs": [
        {
          "name": "stdout",
          "output_type": "stream",
          "text": [
            "\n",
            "NDCG Score: 0.5741603094598835\n"
          ]
        }
      ],
      "source": [
        "# Predicting on validation data\n",
        "y_pred = gbm.predict(x_test)\n",
        "\n",
        "# Generating the ranking for the predictions\n",
        "ranked_preds = np.argsort(y_pred)[::-1] \n",
        "\n",
        "def ndcg(r):\n",
        "    r = np.asfarray(r)\n",
        "    dcg = np.sum(r / np.log2(np.arange(2, r.size + 2)))\n",
        "    idcg = np.sum(np.sort(r)[::-1] / np.log2(np.arange(2, r.size + 2)))\n",
        "    return dcg / idcg if idcg > 0. else 0.\n",
        "\n",
        "# Create binary relevance - 1 for relevant (starred), 0 otherwise\n",
        "rel_scores = [1 if i in y_test else 0 for i in ranked_preds]\n",
        "\n",
        "print('\\nNDCG Score:', ndcg(rel_scores))\n"
      ]
    }
  ],
  "metadata": {
    "colab": {
      "provenance": [],
      "toc_visible": true
    },
    "kernelspec": {
      "display_name": "Python 3",
      "language": "python",
      "name": "python3"
    },
    "language_info": {
      "codemirror_mode": {
        "name": "ipython",
        "version": 3
      },
      "file_extension": ".py",
      "mimetype": "text/x-python",
      "name": "python",
      "nbconvert_exporter": "python",
      "pygments_lexer": "ipython3",
      "version": "3.10.11"
    },
    "orig_nbformat": 4
  },
  "nbformat": 4,
  "nbformat_minor": 0
}
