{
 "cells": [
  {
   "attachments": {},
   "cell_type": "markdown",
   "metadata": {},
   "source": [
    "# MonReader\n",
    "---\n",
    "## Summary\n",
    "\n",
    "**Data Description:**\n",
    "\n",
    "We collected page flipping video from smart phones and labelled them as flipping and not flipping.\n",
    "\n",
    "We clipped the videos as short videos and labelled them as flipping or not flipping. The extracted frames are then saved to disk in a sequential order with the following naming structure: VideoID_FrameNumber\n",
    "\n",
    "**Goal(s):**\n",
    "\n",
    "Predict if the page is being flipped using a single image.\n",
    "\n",
    "**Success Metrics:**\n",
    "\n",
    "Evaluate model performance based on F1 score, the higher the better.\n",
    "\n",
    "**Bonus(es):**\n",
    "\n",
    "Predict if a given sequence of images contains an action of flipping.\n"
   ]
  },
  {
   "attachments": {},
   "cell_type": "markdown",
   "metadata": {},
   "source": [
    "# Setup"
   ]
  },
  {
   "attachments": {},
   "cell_type": "markdown",
   "metadata": {},
   "source": [
    "## Import Libraries"
   ]
  },
  {
   "cell_type": "code",
   "execution_count": 19,
   "metadata": {},
   "outputs": [],
   "source": [
    "# Standards\n",
    "import os\n",
    "import re\n",
    "import pandas as pd\n",
    "import numpy as np\n",
    "import matplotlib.pyplot as plt\n",
    "import seaborn as sns\n",
    "import xgboost as xgb\n",
    "from scipy import stats\n",
    "import statistics\n",
    "import tensorflow as tf\n",
    "\n",
    "# For Data Import\n",
    "from pathlib import Path\n",
    "from collections import defaultdict\n",
    "\n",
    "# For Model\n",
    "from keras.models import Sequential\n",
    "from keras.layers import TimeDistributed, Conv2D, MaxPooling2D, Flatten, LSTM, Dense\n",
    "from sklearn.metrics import classification_report\n",
    "from keras import backend as K\n",
    "\n",
    "# For Prediction Model\n",
    "from keras.preprocessing.image import load_img, img_to_array\n",
    "from keras.optimizers import Adam\n",
    "from keras.metrics import Precision, Recall, AUC\n",
    "from keras.preprocessing.sequence import pad_sequences\n",
    "from keras.preprocessing.sequence import pad_sequences\n",
    "\n",
    "\n",
    "# Warnings\n",
    "import warnings\n",
    "\n",
    "# Suppress deprecation warnings\n",
    "#warnings.filterwarnings('ignore', category=FutureWarning)\n",
    "#warnings.filterwarnings('ignore', category=UserWarning)"
   ]
  },
  {
   "attachments": {},
   "cell_type": "markdown",
   "metadata": {},
   "source": [
    "## Import Data\n",
    "\n",
    "Image data should be preprocessed before feeding into a computer vision model. Here, we've included normalization and resizing of the data."
   ]
  },
  {
   "cell_type": "code",
   "execution_count": 2,
   "metadata": {},
   "outputs": [],
   "source": [
    "# Define the pre-processing functions\n",
    "def preprocess_image(image):\n",
    "    image = tf.image.decode_jpeg(image, channels=3)\n",
    "    image = tf.image.resize(image, [224, 224])\n",
    "    image /= 255.0  # normalize to [0,1] range\n",
    "    return image\n",
    "\n",
    "def load_and_preprocess_image(path):\n",
    "    image = tf.io.read_file(path)\n",
    "    return preprocess_image(image)\n",
    "\n",
    "def load_and_preprocess_from_path_label(path, label):\n",
    "    return load_and_preprocess_image(path), label\n",
    "\n",
    "# Get image paths and labels for training and testing datasets\n",
    "def get_image_paths_and_labels(directory):\n",
    "    flip_image_paths = [str(path) for path in list(Path(directory + '/flip').glob('*.jpg'))]\n",
    "    notflip_image_paths = [str(path) for path in list(Path(directory + '/notflip').glob('*.jpg'))]\n",
    "    flip_labels = [1]*len(flip_image_paths)\n",
    "    notflip_labels = [0]*len(notflip_image_paths)\n",
    "    return flip_image_paths + notflip_image_paths, flip_labels + notflip_labels\n",
    "\n",
    "# Folder paths\n",
    "training_folder_path = r\"C:\\ref\\images\\training\"\n",
    "testing_folder_path = r\"C:\\ref\\images\\testing\"\n",
    "\n",
    "\n",
    "train_image_paths, train_image_labels = get_image_paths_and_labels(training_folder_path)\n",
    "test_image_paths, test_image_labels = get_image_paths_and_labels(testing_folder_path)\n",
    "\n",
    "batch_size = 32 # Define batch size\n",
    "\n",
    "# Create Datasets\n",
    "train_path_ds = tf.data.Dataset.from_tensor_slices((train_image_paths, train_image_labels))\n",
    "train_image_label_ds = train_path_ds.map(load_and_preprocess_from_path_label)\n",
    "train_ds = train_image_label_ds.shuffle(buffer_size=len(train_image_labels)).batch(batch_size)\n",
    "\n",
    "test_path_ds = tf.data.Dataset.from_tensor_slices((test_image_paths, test_image_labels))\n",
    "test_image_label_ds = test_path_ds.map(load_and_preprocess_from_path_label)\n",
    "test_ds = test_image_label_ds.shuffle(buffer_size=len(test_image_labels)).batch(batch_size)\n"
   ]
  },
  {
   "attachments": {},
   "cell_type": "markdown",
   "metadata": {},
   "source": [
    "# Data Exploration"
   ]
  },
  {
   "cell_type": "code",
   "execution_count": 3,
   "metadata": {},
   "outputs": [
    {
     "name": "stdout",
     "output_type": "stream",
     "text": [
      "Filename validation check:\n",
      "-------------\n",
      "File count validation check:\n",
      "C:\\ref\\images\\training\n",
      "Number of files in 'flip' subfolder: 1162\n",
      "Number of files in 'notflip' subfolder: 1230\n",
      "C:\\ref\\images\\testing\n",
      "Number of files in 'flip' subfolder: 290\n",
      "Number of files in 'notflip' subfolder: 307\n",
      "-------------\n"
     ]
    }
   ],
   "source": [
    "# Create functions that validate that the files are as expected.\n",
    "\n",
    "def check_filenames(folder):\n",
    "    \"\"\"\n",
    "    Check if all filenames in a folder follow the expected format: VideoID_FrameNumber.jpg\n",
    "    \"\"\"\n",
    "    for root, _, files in os.walk(folder):\n",
    "        for file in files:\n",
    "            if not re.fullmatch(r'\\d+_\\d+\\.jpg', file):\n",
    "                print(f'Unexpected filename format: {os.path.join(root, file)}')\n",
    "\n",
    "\n",
    "def count_files_in_folders(main_folder):\n",
    "    \"\"\"\n",
    "    Count files in each subfolder within the main folder.\n",
    "    \"\"\"\n",
    "    for folder_name in ['flip', 'notflip']:\n",
    "        folder_path = os.path.join(main_folder, folder_name)\n",
    "        \n",
    "        if os.path.exists(folder_path):\n",
    "            num_files = len([f for f in os.listdir(folder_path) if os.path.isfile(os.path.join(folder_path, f))])\n",
    "            print(f\"Number of files in '{folder_name}' subfolder: {num_files}\")\n",
    "        else:\n",
    "            print(f\"'{folder_path}' does not exist.\")\n",
    "\n",
    "# Check filenames in training and validation folders\n",
    "# No output is good\n",
    "print(\"Filename validation check:\")\n",
    "check_filenames(training_folder_path)\n",
    "check_filenames(testing_folder_path)\n",
    "print(\"-------------\")\n",
    "\n",
    "# Check the number of files in 'flip' and 'notflip' subfolders in training and validation folders\n",
    "print(\"File count validation check:\")\n",
    "print(f\"{training_folder_path}\")\n",
    "count_files_in_folders(training_folder_path)\n",
    "print(f\"{testing_folder_path}\")\n",
    "count_files_in_folders(testing_folder_path)\n",
    "print(\"-------------\")"
   ]
  },
  {
   "cell_type": "code",
   "execution_count": 4,
   "metadata": {},
   "outputs": [
    {
     "data": {
      "image/png": "[encoded data removed]",
      "text/plain": [
       "<Figure size 1000x600 with 1 Axes>"
      ]
     },
     "metadata": {},
     "output_type": "display_data"
    }
   ],
   "source": [
    "# Sum sequence lengths for all video IDs in a given folder\n",
    "def check_sequence_lengths(base_folder):\n",
    "    \"\"\"Check sequence lengths for all video IDs and return their sum.\"\"\"\n",
    "    # Create a dictionary to hold the number of frames for each video ID\n",
    "    video_lengths = defaultdict(int)\n",
    "    \n",
    "    labels = ['flip', 'notflip']  # Define the labels\n",
    "    for label in labels:  # Iterate over each label\n",
    "        folder = os.path.join(base_folder, label)  # Form the complete path\n",
    "        files = os.listdir(folder)\n",
    "        \n",
    "        # Count the number of frames for each video\n",
    "        for file in files:\n",
    "            video_id, _ = os.path.splitext(file)[0].split(\"_\")\n",
    "            video_lengths[video_id] += 1\n",
    "            \n",
    "    # Sum the lengths of all videos\n",
    "    total_length = sum(video_lengths.values())\n",
    "    \n",
    "    return video_lengths, total_length\n",
    "\n",
    "# Check the length of each video\n",
    "def plot_sequence_lengths(folders):\n",
    "    \"\"\"Check sequence lengths for all video IDs in multiple folders and plot them.\"\"\"\n",
    "    plt.figure(figsize=(10, 6))\n",
    "    \n",
    "    for folder in folders:\n",
    "        video_lengths, _ = check_sequence_lengths(folder)\n",
    "        \n",
    "        # Plot the sequence lengths for this folder\n",
    "        plt.bar(video_lengths.keys(), video_lengths.values(), alpha=0.5, label=folder)\n",
    "\n",
    "    plt.xlabel('Video ID')\n",
    "    plt.ylabel('Sequence Length')\n",
    "    plt.title('Sequence Lengths for each Video ID')\n",
    "    plt.xticks(rotation=90)  # Rotate the x-axis labels for readability\n",
    "    plt.legend()  # Add a legend to differentiate between folders\n",
    "    plt.show()\n",
    "\n",
    "plot_sequence_lengths([training_folder_path, testing_folder_path])"
   ]
  },
  {
   "attachments": {},
   "cell_type": "markdown",
   "metadata": {},
   "source": [
    "### Observations\n",
    "\n",
    "- The sequence lengths vary from video to video. This means that not every video is the same length, and thus we are testing and training on variable amounts of information per video. This will need to be considered when predicting if a given sequence of images contains a flip.\n",
    "- In general, the video lengths in the testing set are shorter than in the training set. "
   ]
  },
  {
   "attachments": {},
   "cell_type": "markdown",
   "metadata": {},
   "source": [
    "# Modelling"
   ]
  },
  {
   "attachments": {},
   "cell_type": "markdown",
   "metadata": {},
   "source": [
    "## General"
   ]
  },
  {
   "attachments": {},
   "cell_type": "markdown",
   "metadata": {},
   "source": [
    "### Setup"
   ]
  },
  {
   "cell_type": "code",
   "execution_count": 5,
   "metadata": {},
   "outputs": [],
   "source": [
    "# Define a CNN model\n",
    "\n",
    "model = Sequential() # Base liner layer model\n",
    "model.add(Conv2D(32, (3, 3), activation='relu', input_shape=(224, 224, 3))) # 1st layer\n",
    "model.add(MaxPooling2D((2, 2))) # Reduce size of convolutional layer\n",
    "model.add(Conv2D(64, (3, 3), activation='relu')) # 2nd layer\n",
    "model.add(MaxPooling2D((2, 2))) # Reduce size of convolutional layer\n",
    "model.add(Flatten()) # Convert to vector for dense layers\n",
    "model.add(Dense(64, activation='relu')) # 3rd layer - dense\n",
    "model.add(Dense(1, activation='sigmoid')) # Output Binary layer: flip or not flip\n"
   ]
  },
  {
   "attachments": {},
   "cell_type": "markdown",
   "metadata": {},
   "source": [
    "### Evaluation"
   ]
  },
  {
   "cell_type": "code",
   "execution_count": 6,
   "metadata": {},
   "outputs": [
    {
     "name": "stdout",
     "output_type": "stream",
     "text": [
      "Epoch 1/5\n",
      "75/75 [==============================] - 97s 1s/step - loss: 0.5389 - accuracy: 0.7412 - precision_m: 0.7862 - recall_m: 0.7130 - f1_m: 0.7034 - val_loss: 0.2816 - val_accuracy: 0.8827 - val_precision_m: 0.8019 - val_recall_m: 1.0000 - val_f1_m: 0.8867\n",
      "Epoch 2/5\n",
      "75/75 [==============================] - 95s 1s/step - loss: 0.1228 - accuracy: 0.9540 - precision_m: 0.9582 - recall_m: 0.9509 - f1_m: 0.9515 - val_loss: 0.1078 - val_accuracy: 0.9598 - val_precision_m: 0.9290 - val_recall_m: 0.9929 - val_f1_m: 0.9586\n",
      "Epoch 3/5\n",
      "75/75 [==============================] - 96s 1s/step - loss: 0.0352 - accuracy: 0.9916 - precision_m: 0.9903 - recall_m: 0.9929 - f1_m: 0.9913 - val_loss: 0.0377 - val_accuracy: 0.9883 - val_precision_m: 0.9843 - val_recall_m: 0.9936 - val_f1_m: 0.9886\n",
      "Epoch 4/5\n",
      "75/75 [==============================] - 100s 1s/step - loss: 0.0136 - accuracy: 0.9967 - precision_m: 0.9960 - recall_m: 0.9976 - f1_m: 0.9966 - val_loss: 0.0441 - val_accuracy: 0.9899 - val_precision_m: 0.9969 - val_recall_m: 0.9835 - val_f1_m: 0.9899\n",
      "Epoch 5/5\n",
      "75/75 [==============================] - 94s 1s/step - loss: 0.0020 - accuracy: 1.0000 - precision_m: 1.0000 - recall_m: 1.0000 - f1_m: 1.0000 - val_loss: 0.0322 - val_accuracy: 0.9916 - val_precision_m: 1.0000 - val_recall_m: 0.9834 - val_f1_m: 0.9911\n",
      "19/19 [==============================] - 7s 267ms/step - loss: 0.0322 - accuracy: 0.9916 - precision_m: 1.0000 - recall_m: 0.9819 - f1_m: 0.9906\n"
     ]
    }
   ],
   "source": [
    "def recall_m(y_true, y_pred):\n",
    "    true_positives = K.sum(K.round(K.clip(y_true * y_pred, 0, 1)))\n",
    "    possible_positives = K.sum(K.round(K.clip(y_true, 0, 1)))\n",
    "    recall = true_positives / (possible_positives + K.epsilon())\n",
    "    return recall\n",
    "\n",
    "def precision_m(y_true, y_pred):\n",
    "    true_positives = K.sum(K.round(K.clip(y_true * y_pred, 0, 1)))\n",
    "    predicted_positives = K.sum(K.round(K.clip(y_pred, 0, 1)))\n",
    "    precision = true_positives / (predicted_positives + K.epsilon())\n",
    "    return precision\n",
    "\n",
    "def f1_m(y_true, y_pred):\n",
    "    precision = precision_m(y_true, y_pred)\n",
    "    recall = recall_m(y_true, y_pred)\n",
    "    return 2*((precision*recall)/(precision+recall+K.epsilon()))\n",
    "\n",
    "# compile the model\n",
    "model.compile(optimizer='adam', loss='binary_crossentropy', metrics=['accuracy', precision_m, recall_m, f1_m])\n",
    "\n",
    "# fit the model\n",
    "history = model.fit(train_ds, epochs=5, validation_data=test_ds)\n",
    "\n",
    "# evaluate the model\n",
    "loss, accuracy, precision, recall, f1_score = model.evaluate(test_ds)\n"
   ]
  },
  {
   "attachments": {},
   "cell_type": "markdown",
   "metadata": {},
   "source": [
    "### Summary\n",
    "\n",
    "We find that a general CNN prediction model scores highly for all metrics including accuracy, precision, recall, and F1 score."
   ]
  },
  {
   "attachments": {},
   "cell_type": "markdown",
   "metadata": {},
   "source": [
    "# Prediction\n",
    "\n",
    "Here, we will address the bonus part of the problem: *'predict if a given sequence of images contains an action of flipping'*.\n",
    "\n",
    "This task is more complex than image classification for a couple of reasons. First, the model now has to understand the time-relationship between images in a sequence. Second, the model also has to be able to understand the concept of the \"flipping\" action, which involves more than just the static content of a single image.\n",
    "\n",
    "For these reasons, we will look at using a Long Short-Term Memory (LSTM) network to analyze the sequence of images and predict if a page flip action is occurring. "
   ]
  },
  {
   "cell_type": "code",
   "execution_count": 30,
   "metadata": {},
   "outputs": [
    {
     "name": "stdout",
     "output_type": "stream",
     "text": [
      "Number of videos: 65\n"
     ]
    }
   ],
   "source": [
    "def gather_files_by_id(path):\n",
    "    files_dict = {}\n",
    "    for root, _, files in os.walk(path):\n",
    "        for file in files:\n",
    "            video_id = file.split('_')[0]\n",
    "            if video_id not in files_dict:\n",
    "                files_dict[video_id] = []\n",
    "            files_dict[video_id].append(os.path.join(root, file))\n",
    "    return files_dict\n",
    "\n",
    "files_dict = gather_files_by_id(r\"C:\\ref\\images\")\n",
    "\n",
    "for video_id, file_paths in files_dict.items():\n",
    "    files_dict[video_id] = sorted(file_paths, key=lambda x: int(x.split('_')[1].split('.')[0]))\n",
    "\n",
    "print(f\"Number of videos: {len(files_dict)}\")\n"
   ]
  },
  {
   "cell_type": "code",
   "execution_count": null,
   "metadata": {},
   "outputs": [],
   "source": []
  }
 ],
 "metadata": {
  "kernelspec": {
   "display_name": "Python 3",
   "language": "python",
   "name": "python3"
  },
  "language_info": {
   "codemirror_mode": {
    "name": "ipython",
    "version": 3
   },
   "file_extension": ".py",
   "mimetype": "text/x-python",
   "name": "python",
   "nbconvert_exporter": "python",
   "pygments_lexer": "ipython3",
   "version": "3.10.11"
  },
  "orig_nbformat": 4
 },
 "nbformat": 4,
 "nbformat_minor": 2
}
